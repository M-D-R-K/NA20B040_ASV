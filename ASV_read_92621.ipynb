{
  "nbformat": 4,
  "nbformat_minor": 0,
  "metadata": {
    "colab": {
      "name": "Untitled4.ipynb",
      "provenance": []
    },
    "kernelspec": {
      "name": "python3",
      "display_name": "Python 3"
    },
    "language_info": {
      "name": "python"
    }
  },
  "cells": [
    {
      "cell_type": "code",
      "metadata": {
        "colab": {
          "base_uri": "https://localhost:8080/",
          "height": 226
        },
        "id": "8oYJxMs1s2-3",
        "outputId": "2ecd4d8b-40d2-4ba5-bfdd-8a4391e64c77"
      },
      "source": [
        "import pandas as pd\n",
        "df = pd.read_csv('/content/content1.txt')\n",
        "df.head()"
      ],
      "execution_count": null,
      "outputs": [
        {
          "output_type": "execute_result",
          "data": {
            "text/html": [
              "<div>\n",
              "<style scoped>\n",
              "    .dataframe tbody tr th:only-of-type {\n",
              "        vertical-align: middle;\n",
              "    }\n",
              "\n",
              "    .dataframe tbody tr th {\n",
              "        vertical-align: top;\n",
              "    }\n",
              "\n",
              "    .dataframe thead th {\n",
              "        text-align: right;\n",
              "    }\n",
              "</style>\n",
              "<table border=\"1\" class=\"dataframe\">\n",
              "  <thead>\n",
              "    <tr style=\"text-align: right;\">\n",
              "      <th></th>\n",
              "      <th>time</th>\n",
              "      <th>header</th>\n",
              "      <th>q0</th>\n",
              "      <th>q1</th>\n",
              "      <th>q2</th>\n",
              "      <th>q3</th>\n",
              "      <th>ax</th>\n",
              "      <th>ay</th>\n",
              "      <th>az</th>\n",
              "      <th>p</th>\n",
              "      <th>q</th>\n",
              "      <th>r</th>\n",
              "      <th>mx</th>\n",
              "      <th>my</th>\n",
              "      <th>mz</th>\n",
              "      <th>Temperature</th>\n",
              "      <th>checksum</th>\n",
              "      <th>actuator</th>\n",
              "    </tr>\n",
              "  </thead>\n",
              "  <tbody>\n",
              "    <tr>\n",
              "      <th>0</th>\n",
              "      <td>137.779</td>\n",
              "      <td>$PSONCMS</td>\n",
              "      <td>-0.8452</td>\n",
              "      <td>0.0061</td>\n",
              "      <td>-0.0250</td>\n",
              "      <td>-0.5339</td>\n",
              "      <td>0.4877</td>\n",
              "      <td>-0.0831</td>\n",
              "      <td>-9.7948</td>\n",
              "      <td>0.1242</td>\n",
              "      <td>-0.0248</td>\n",
              "      <td>0.0449</td>\n",
              "      <td>-0.7595</td>\n",
              "      <td>-0.1334</td>\n",
              "      <td>0.1661</td>\n",
              "      <td>47.1*5E</td>\n",
              "      <td>0</td>\n",
              "      <td>NaN</td>\n",
              "    </tr>\n",
              "    <tr>\n",
              "      <th>1</th>\n",
              "      <td>176.282</td>\n",
              "      <td>$PSONCMS</td>\n",
              "      <td>-0.7373</td>\n",
              "      <td>0.0035</td>\n",
              "      <td>-0.0306</td>\n",
              "      <td>-0.6749</td>\n",
              "      <td>0.4724</td>\n",
              "      <td>-0.3570</td>\n",
              "      <td>-9.7717</td>\n",
              "      <td>-0.0199</td>\n",
              "      <td>-0.0021</td>\n",
              "      <td>-0.0009</td>\n",
              "      <td>-0.8265</td>\n",
              "      <td>0.1027</td>\n",
              "      <td>0.1125</td>\n",
              "      <td>47.1*75</td>\n",
              "      <td>0</td>\n",
              "      <td>NaN</td>\n",
              "    </tr>\n",
              "    <tr>\n",
              "      <th>2</th>\n",
              "      <td>176.336</td>\n",
              "      <td>$PSONCMS</td>\n",
              "      <td>-0.7372</td>\n",
              "      <td>0.0040</td>\n",
              "      <td>-0.0303</td>\n",
              "      <td>-0.6750</td>\n",
              "      <td>0.4682</td>\n",
              "      <td>-0.3574</td>\n",
              "      <td>-9.7668</td>\n",
              "      <td>-0.0225</td>\n",
              "      <td>-0.0034</td>\n",
              "      <td>-0.0024</td>\n",
              "      <td>-0.8274</td>\n",
              "      <td>0.1032</td>\n",
              "      <td>0.1130</td>\n",
              "      <td>47.1*74</td>\n",
              "      <td>0</td>\n",
              "      <td>NaN</td>\n",
              "    </tr>\n",
              "    <tr>\n",
              "      <th>3</th>\n",
              "      <td>176.367</td>\n",
              "      <td>$PSONCMS</td>\n",
              "      <td>-0.7372</td>\n",
              "      <td>0.0042</td>\n",
              "      <td>-0.0301</td>\n",
              "      <td>-0.6750</td>\n",
              "      <td>0.4695</td>\n",
              "      <td>-0.3470</td>\n",
              "      <td>-9.7706</td>\n",
              "      <td>-0.0205</td>\n",
              "      <td>-0.0025</td>\n",
              "      <td>-0.0025</td>\n",
              "      <td>-0.8279</td>\n",
              "      <td>0.1027</td>\n",
              "      <td>0.1115</td>\n",
              "      <td>47.1*73</td>\n",
              "      <td>0</td>\n",
              "      <td>NaN</td>\n",
              "    </tr>\n",
              "    <tr>\n",
              "      <th>4</th>\n",
              "      <td>176.401</td>\n",
              "      <td>$PSONCMS</td>\n",
              "      <td>-0.7371</td>\n",
              "      <td>0.0046</td>\n",
              "      <td>-0.0297</td>\n",
              "      <td>-0.6751</td>\n",
              "      <td>0.4696</td>\n",
              "      <td>-0.3383</td>\n",
              "      <td>-9.7700</td>\n",
              "      <td>-0.0227</td>\n",
              "      <td>-0.0047</td>\n",
              "      <td>-0.0026</td>\n",
              "      <td>-0.8260</td>\n",
              "      <td>0.1017</td>\n",
              "      <td>0.1119</td>\n",
              "      <td>47.1*75</td>\n",
              "      <td>0</td>\n",
              "      <td>NaN</td>\n",
              "    </tr>\n",
              "  </tbody>\n",
              "</table>\n",
              "</div>"
            ],
            "text/plain": [
              "      time    header      q0      q1  ...      mz  Temperature  checksum  actuator\n",
              "0  137.779  $PSONCMS -0.8452  0.0061  ...  0.1661      47.1*5E         0       NaN\n",
              "1  176.282  $PSONCMS -0.7373  0.0035  ...  0.1125      47.1*75         0       NaN\n",
              "2  176.336  $PSONCMS -0.7372  0.0040  ...  0.1130      47.1*74         0       NaN\n",
              "3  176.367  $PSONCMS -0.7372  0.0042  ...  0.1115      47.1*73         0       NaN\n",
              "4  176.401  $PSONCMS -0.7371  0.0046  ...  0.1119      47.1*75         0       NaN\n",
              "\n",
              "[5 rows x 18 columns]"
            ]
          },
          "metadata": {},
          "execution_count": 3
        }
      ]
    },
    {
      "cell_type": "code",
      "metadata": {
        "id": "7tu2hpJ4AL4F"
      },
      "source": [
        "import numpy as np\n",
        "\n",
        "def phi_calc(q0,q1,q2,q3):\n",
        "  return np.arctan((2*(q0*q1 + q2*q3))/(1-2*(q1**2 + q2**2)))\n",
        "\n",
        "def theta_calc(q0,q1,q2,q3):\n",
        "  return np.arcsin(2*(q0*q2 - q3*q1))\n",
        "\n",
        "\n",
        "\n",
        "df['phi'] = phi_calc(df['q0'],df['q1'],df['q2'],df['q3'])\n",
        "df['theta'] = theta_calc(df['q0'],df['q1'],df['q2'],df['q3'])\n",
        "df['psi'] = phi_calc(df['q0'],df['q3'],df['q2'],df['q1'])"
      ],
      "execution_count": null,
      "outputs": []
    },
    {
      "cell_type": "code",
      "metadata": {
        "colab": {
          "base_uri": "https://localhost:8080/",
          "height": 226
        },
        "id": "0cGJi7TnHiun",
        "outputId": "e0dc83b3-eed0-4d2f-b144-7bcedf6cf686"
      },
      "source": [
        "df.head(\n",
        ")"
      ],
      "execution_count": null,
      "outputs": [
        {
          "output_type": "execute_result",
          "data": {
            "text/html": [
              "<div>\n",
              "<style scoped>\n",
              "    .dataframe tbody tr th:only-of-type {\n",
              "        vertical-align: middle;\n",
              "    }\n",
              "\n",
              "    .dataframe tbody tr th {\n",
              "        vertical-align: top;\n",
              "    }\n",
              "\n",
              "    .dataframe thead th {\n",
              "        text-align: right;\n",
              "    }\n",
              "</style>\n",
              "<table border=\"1\" class=\"dataframe\">\n",
              "  <thead>\n",
              "    <tr style=\"text-align: right;\">\n",
              "      <th></th>\n",
              "      <th>time</th>\n",
              "      <th>header</th>\n",
              "      <th>q0</th>\n",
              "      <th>q1</th>\n",
              "      <th>q2</th>\n",
              "      <th>q3</th>\n",
              "      <th>ax</th>\n",
              "      <th>ay</th>\n",
              "      <th>az</th>\n",
              "      <th>p</th>\n",
              "      <th>q</th>\n",
              "      <th>r</th>\n",
              "      <th>mx</th>\n",
              "      <th>my</th>\n",
              "      <th>mz</th>\n",
              "      <th>Temperature</th>\n",
              "      <th>checksum</th>\n",
              "      <th>actuator</th>\n",
              "      <th>phi</th>\n",
              "      <th>theta</th>\n",
              "      <th>psi</th>\n",
              "    </tr>\n",
              "  </thead>\n",
              "  <tbody>\n",
              "    <tr>\n",
              "      <th>0</th>\n",
              "      <td>137.779</td>\n",
              "      <td>$PSONCMS</td>\n",
              "      <td>-0.8452</td>\n",
              "      <td>0.0061</td>\n",
              "      <td>-0.0250</td>\n",
              "      <td>-0.5339</td>\n",
              "      <td>0.4877</td>\n",
              "      <td>-0.0831</td>\n",
              "      <td>-9.7948</td>\n",
              "      <td>0.1242</td>\n",
              "      <td>-0.0248</td>\n",
              "      <td>0.0449</td>\n",
              "      <td>-0.7595</td>\n",
              "      <td>-0.1334</td>\n",
              "      <td>0.1661</td>\n",
              "      <td>47.1*5E</td>\n",
              "      <td>0</td>\n",
              "      <td>NaN</td>\n",
              "      <td>0.016404</td>\n",
              "      <td>0.048793</td>\n",
              "      <td>1.127251</td>\n",
              "    </tr>\n",
              "    <tr>\n",
              "      <th>1</th>\n",
              "      <td>176.282</td>\n",
              "      <td>$PSONCMS</td>\n",
              "      <td>-0.7373</td>\n",
              "      <td>0.0035</td>\n",
              "      <td>-0.0306</td>\n",
              "      <td>-0.6749</td>\n",
              "      <td>0.4724</td>\n",
              "      <td>-0.3570</td>\n",
              "      <td>-9.7717</td>\n",
              "      <td>-0.0199</td>\n",
              "      <td>-0.0021</td>\n",
              "      <td>-0.0009</td>\n",
              "      <td>-0.8265</td>\n",
              "      <td>0.1027</td>\n",
              "      <td>0.1125</td>\n",
              "      <td>47.1*75</td>\n",
              "      <td>0</td>\n",
              "      <td>NaN</td>\n",
              "      <td>0.036196</td>\n",
              "      <td>0.049868</td>\n",
              "      <td>1.483433</td>\n",
              "    </tr>\n",
              "    <tr>\n",
              "      <th>2</th>\n",
              "      <td>176.336</td>\n",
              "      <td>$PSONCMS</td>\n",
              "      <td>-0.7372</td>\n",
              "      <td>0.0040</td>\n",
              "      <td>-0.0303</td>\n",
              "      <td>-0.6750</td>\n",
              "      <td>0.4682</td>\n",
              "      <td>-0.3574</td>\n",
              "      <td>-9.7668</td>\n",
              "      <td>-0.0225</td>\n",
              "      <td>-0.0034</td>\n",
              "      <td>-0.0024</td>\n",
              "      <td>-0.8274</td>\n",
              "      <td>0.1032</td>\n",
              "      <td>0.1130</td>\n",
              "      <td>47.1*74</td>\n",
              "      <td>0</td>\n",
              "      <td>NaN</td>\n",
              "      <td>0.035059</td>\n",
              "      <td>0.050095</td>\n",
              "      <td>1.483665</td>\n",
              "    </tr>\n",
              "    <tr>\n",
              "      <th>3</th>\n",
              "      <td>176.367</td>\n",
              "      <td>$PSONCMS</td>\n",
              "      <td>-0.7372</td>\n",
              "      <td>0.0042</td>\n",
              "      <td>-0.0301</td>\n",
              "      <td>-0.6750</td>\n",
              "      <td>0.4695</td>\n",
              "      <td>-0.3470</td>\n",
              "      <td>-9.7706</td>\n",
              "      <td>-0.0205</td>\n",
              "      <td>-0.0025</td>\n",
              "      <td>-0.0025</td>\n",
              "      <td>-0.8279</td>\n",
              "      <td>0.1027</td>\n",
              "      <td>0.1115</td>\n",
              "      <td>47.1*73</td>\n",
              "      <td>0</td>\n",
              "      <td>NaN</td>\n",
              "      <td>0.034493</td>\n",
              "      <td>0.050070</td>\n",
              "      <td>1.483640</td>\n",
              "    </tr>\n",
              "    <tr>\n",
              "      <th>4</th>\n",
              "      <td>176.401</td>\n",
              "      <td>$PSONCMS</td>\n",
              "      <td>-0.7371</td>\n",
              "      <td>0.0046</td>\n",
              "      <td>-0.0297</td>\n",
              "      <td>-0.6751</td>\n",
              "      <td>0.4696</td>\n",
              "      <td>-0.3383</td>\n",
              "      <td>-9.7700</td>\n",
              "      <td>-0.0227</td>\n",
              "      <td>-0.0047</td>\n",
              "      <td>-0.0026</td>\n",
              "      <td>-0.8260</td>\n",
              "      <td>0.1017</td>\n",
              "      <td>0.1119</td>\n",
              "      <td>47.1*75</td>\n",
              "      <td>0</td>\n",
              "      <td>NaN</td>\n",
              "      <td>0.033368</td>\n",
              "      <td>0.050016</td>\n",
              "      <td>1.483861</td>\n",
              "    </tr>\n",
              "  </tbody>\n",
              "</table>\n",
              "</div>"
            ],
            "text/plain": [
              "      time    header      q0      q1  ...  actuator       phi     theta       psi\n",
              "0  137.779  $PSONCMS -0.8452  0.0061  ...       NaN  0.016404  0.048793  1.127251\n",
              "1  176.282  $PSONCMS -0.7373  0.0035  ...       NaN  0.036196  0.049868  1.483433\n",
              "2  176.336  $PSONCMS -0.7372  0.0040  ...       NaN  0.035059  0.050095  1.483665\n",
              "3  176.367  $PSONCMS -0.7372  0.0042  ...       NaN  0.034493  0.050070  1.483640\n",
              "4  176.401  $PSONCMS -0.7371  0.0046  ...       NaN  0.033368  0.050016  1.483861\n",
              "\n",
              "[5 rows x 21 columns]"
            ]
          },
          "metadata": {},
          "execution_count": 5
        }
      ]
    },
    {
      "cell_type": "code",
      "metadata": {
        "colab": {
          "base_uri": "https://localhost:8080/",
          "height": 282
        },
        "id": "N9kqFz9eJfbZ",
        "outputId": "ef212f05-e427-4b15-d29e-f3e4b6900732"
      },
      "source": [
        "import matplotlib.pyplot as plt\n",
        "plt.plot(df['time'], df['phi'])\n"
      ],
      "execution_count": null,
      "outputs": [
        {
          "output_type": "execute_result",
          "data": {
            "text/plain": [
              "[<matplotlib.lines.Line2D at 0x7f82b53e65d0>]"
            ]
          },
          "metadata": {},
          "execution_count": 6
        },
        {
          "output_type": "display_data",
          "data": {
            "image/png": "[encoded data removed]",
            "text/plain": [
              "<Figure size 432x288 with 1 Axes>"
            ]
          },
          "metadata": {
            "needs_background": "light"
          }
        }
      ]
    },
    {
      "cell_type": "code",
      "metadata": {
        "colab": {
          "base_uri": "https://localhost:8080/",
          "height": 282
        },
        "id": "1IjZHoQSJ5r9",
        "outputId": "e2d0b599-526f-4cff-84ad-2d9ab97dd1a8"
      },
      "source": [
        "plt.plot(df['time'], df['theta'])\n"
      ],
      "execution_count": null,
      "outputs": [
        {
          "output_type": "execute_result",
          "data": {
            "text/plain": [
              "[<matplotlib.lines.Line2D at 0x7f82b79ca110>]"
            ]
          },
          "metadata": {},
          "execution_count": 7
        },
        {
          "output_type": "display_data",
          "data": {
            "image/png": "[encoded data removed]",
            "text/plain": [
              "<Figure size 432x288 with 1 Axes>"
            ]
          },
          "metadata": {
            "needs_background": "light"
          }
        }
      ]
    },
    {
      "cell_type": "code",
      "metadata": {
        "colab": {
          "base_uri": "https://localhost:8080/",
          "height": 282
        },
        "id": "uO2SuSU7J9HZ",
        "outputId": "05d15a46-90e0-4c67-bdd7-b54f764a3261"
      },
      "source": [
        "plt.plot(df['time'], df['psi'])"
      ],
      "execution_count": null,
      "outputs": [
        {
          "output_type": "execute_result",
          "data": {
            "text/plain": [
              "[<matplotlib.lines.Line2D at 0x7f82b4e40550>]"
            ]
          },
          "metadata": {},
          "execution_count": 8
        },
        {
          "output_type": "display_data",
          "data": {
            "image/png": "[encoded data removed]",
            "text/plain": [
              "<Figure size 432x288 with 1 Axes>"
            ]
          },
          "metadata": {
            "needs_background": "light"
          }
        }
      ]
    }
  ]
}